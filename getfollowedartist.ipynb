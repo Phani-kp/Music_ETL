try:
    sp = spotipy.Spotify(auth_manager=SpotifyOAuth(
        client_id=client_id,
        client_secret=client_secret,
        redirect_uri=redirect_uri,
        scope=scope
    ))
    print(sp)
except Exception as e:
    print(f"An error occurred: {e}")
