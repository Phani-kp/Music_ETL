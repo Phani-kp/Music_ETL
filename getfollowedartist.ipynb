import spotipy
from spotipy.oauth2 import SpotifyClientCredentials
import pandas as pd
import json
from datetime import datetime
import s3fs

# Spotify API credentials
client_id = "ccd06ac8ceea47239147cef3f6258ff2"
client_secret = "460cbb80e72649b4a00fef78aa897d91"

# Authenticate using Client Credentials Flow
auth_manager = SpotifyClientCredentials(client_id=client_id, client_secret=client_secret)
sp = spotipy.Spotify(auth_manager=auth_manager)
